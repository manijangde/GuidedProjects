{
 "cells": [
  {
   "cell_type": "markdown",
   "metadata": {},
   "source": [
    "# PROJECT NAME : SQL_FACTBOOK\n",
    "\n",
    "In this project, we'll work with data from the CIA World Factbook, a compendium of statistics about all of the countries on Earth. The Factbook contains demographic information like:\n",
    "\n",
    "population - The population as of 2015.\n",
    "population_growth - The annual population growth rate, as a percentage.\n",
    "area - The total land and water area.\n",
    "\n",
    "*DATA SOURCE:* [factbook](https://github.com/factbook/factbook.sql/releases)"
   ]
  },
  {
   "cell_type": "code",
   "execution_count": 1,
   "metadata": {},
   "outputs": [
    {
     "data": {
      "text/plain": [
       "[('table',\n",
       "  'facts',\n",
       "  'facts',\n",
       "  2,\n",
       "  'CREATE TABLE \"facts\" (\"id\" INTEGER PRIMARY KEY AUTOINCREMENT NOT NULL, \"code\" varchar(255) NOT NULL, \"name\" varchar(255) NOT NULL, \"area\" integer, \"area_land\" integer, \"area_water\" integer, \"population\" integer, \"population_growth\" float, \"birth_rate\" float, \"death_rate\" float, \"migration_rate\" float, \"created_at\" datetime, \"updated_at\" datetime)'),\n",
       " ('table',\n",
       "  'sqlite_sequence',\n",
       "  'sqlite_sequence',\n",
       "  3,\n",
       "  'CREATE TABLE sqlite_sequence(name,seq)')]"
      ]
     },
     "execution_count": 1,
     "metadata": {},
     "output_type": "execute_result"
    }
   ],
   "source": [
    "import pandas as pd\n",
    "import sqlite3\n",
    "\n",
    "\n",
    "\n",
    "#using the cursor class object - required for SQL GUI based tool.\n",
    "conn = sqlite3.connect(\"factbook.db\")\n",
    "cursor = conn.cursor()\n",
    "query = \"SELECT * FROM sqlite_master WHERE type='table'\"\n",
    "cursor.execute(query).fetchall()"
   ]
  },
  {
   "cell_type": "code",
   "execution_count": 2,
   "metadata": {},
   "outputs": [
    {
     "name": "stdout",
     "output_type": "stream",
     "text": [
      "    type             name         tbl_name  rootpage  \\\n",
      "0  table            facts            facts         2   \n",
      "1  table  sqlite_sequence  sqlite_sequence         3   \n",
      "\n",
      "                                                 sql  \n",
      "0  CREATE TABLE \"facts\" (\"id\" INTEGER PRIMARY KEY...  \n",
      "1             CREATE TABLE sqlite_sequence(name,seq)  \n"
     ]
    }
   ],
   "source": [
    "df = pd.read_sql_query(query, conn)\n",
    "print(df)"
   ]
  },
  {
   "cell_type": "code",
   "execution_count": 3,
   "metadata": {},
   "outputs": [
    {
     "name": "stdout",
     "output_type": "stream",
     "text": [
      "   id code         name     area  area_land  area_water  population  \\\n",
      "0   1   af  Afghanistan   652230     652230           0    32564342   \n",
      "1   2   al      Albania    28748      27398        1350     3029278   \n",
      "2   3   ag      Algeria  2381741    2381741           0    39542166   \n",
      "3   4   an      Andorra      468        468           0       85580   \n",
      "4   5   ao       Angola  1246700    1246700           0    19625353   \n",
      "\n",
      "   population_growth  birth_rate  death_rate  migration_rate  \\\n",
      "0               2.32       38.57       13.89            1.51   \n",
      "1               0.30       12.92        6.58            3.30   \n",
      "2               1.84       23.67        4.31            0.92   \n",
      "3               0.12        8.13        6.96            0.00   \n",
      "4               2.78       38.78       11.49            0.46   \n",
      "\n",
      "                   created_at                  updated_at  \n",
      "0  2015-11-01 13:19:49.461734  2015-11-01 13:19:49.461734  \n",
      "1  2015-11-01 13:19:54.431082  2015-11-01 13:19:54.431082  \n",
      "2  2015-11-01 13:19:59.961286  2015-11-01 13:19:59.961286  \n",
      "3  2015-11-01 13:20:03.659945  2015-11-01 13:20:03.659945  \n",
      "4  2015-11-01 13:20:08.625072  2015-11-01 13:20:08.625072  \n"
     ]
    }
   ],
   "source": [
    "#query that returns the first 5 rows of the facts table \n",
    "\n",
    "q2 = \" SELECT * FROM facts LIMIT 5\"\n",
    "df = pd.read_sql_query(q2, conn)\n",
    "print(df)\n"
   ]
  },
  {
   "cell_type": "code",
   "execution_count": 4,
   "metadata": {},
   "outputs": [
    {
     "name": "stdout",
     "output_type": "stream",
     "text": [
      "   min_pop     max_pop  min_popgrow  max_popgrow\n",
      "0        0  7256490011          0.0         4.02\n"
     ]
    }
   ],
   "source": [
    "q3 = \"SELECT MIN(population) min_pop, MAX(population) max_pop , MIN(population_growth) min_popgrow, MAX(population_growth) max_popgrow FROM facts\"\n",
    "df = pd.read_sql_query(q3, conn)\n",
    "print(df)"
   ]
  },
  {
   "cell_type": "code",
   "execution_count": 5,
   "metadata": {},
   "outputs": [
    {
     "name": "stdout",
     "output_type": "stream",
     "text": [
      "    id code        name  area  area_land area_water  population  \\\n",
      "0  250   ay  Antarctica  None     280000       None           0   \n",
      "\n",
      "  population_growth birth_rate death_rate migration_rate  \\\n",
      "0              None       None       None           None   \n",
      "\n",
      "                   created_at                  updated_at  \n",
      "0  2015-11-01 13:38:44.885746  2015-11-01 13:38:44.885746  \n",
      "    id code   name  area area_land area_water  population  population_growth  \\\n",
      "0  261   xx  World  None      None       None  7256490011               1.08   \n",
      "\n",
      "   birth_rate  death_rate migration_rate                  created_at  \\\n",
      "0        18.6         7.8           None  2015-11-01 13:39:09.910721   \n",
      "\n",
      "                   updated_at  \n",
      "0  2015-11-01 13:39:09.910721  \n"
     ]
    }
   ],
   "source": [
    "q4 = '''\n",
    "\n",
    "SELECT *\n",
    "FROM facts\n",
    "WHERE population == (SELECT MIN(population) FROM facts)\n",
    "\n",
    "'''\n",
    "\n",
    "q5 = '''\n",
    "\n",
    "SELECT *\n",
    "FROM facts\n",
    "WHERE population == (SELECT MAX(population) FROM facts)         \n",
    "\n",
    "'''\n",
    "\n",
    "\n",
    "df = pd.read_sql_query(q4, conn)\n",
    "print(df)\n",
    "\n",
    "df = pd.read_sql_query(q5, conn)\n",
    "print(df)\n"
   ]
  },
  {
   "cell_type": "code",
   "execution_count": 10,
   "metadata": {},
   "outputs": [
    {
     "data": {
      "text/plain": [
       "array([[<matplotlib.axes._subplots.AxesSubplot object at 0x10A79DD0>,\n",
       "        <matplotlib.axes._subplots.AxesSubplot object at 0x10AAB750>],\n",
       "       [<matplotlib.axes._subplots.AxesSubplot object at 0x00855650>,\n",
       "        <matplotlib.axes._subplots.AxesSubplot object at 0x00868FF0>]],\n",
       "      dtype=object)"
      ]
     },
     "execution_count": 10,
     "metadata": {},
     "output_type": "execute_result"
    },
    {
     "data": {
      "image/png": "[encoded data removed]",
      "text/plain": [
       "<Figure size 432x288 with 4 Axes>"
      ]
     },
     "metadata": {
      "needs_background": "light"
     },
     "output_type": "display_data"
    }
   ],
   "source": [
    "import matplotlib.pyplot as plt\n",
    "\n",
    "q6 = '''\n",
    "select population, population_growth, birth_rate, death_rate\n",
    "from facts\n",
    "where population != (select max(population) from facts)\n",
    "and population != (select min(population) from facts);\n",
    "'''\n",
    "pd.read_sql_query(q6, conn).hist()\n"
   ]
  },
  {
   "cell_type": "code",
   "execution_count": 7,
   "metadata": {},
   "outputs": [
    {
     "name": "stdout",
     "output_type": "stream",
     "text": [
      "                                              name      density\n",
      "0                                      Afghanistan    49.927697\n",
      "1                                          Albania   105.373522\n",
      "2                                          Algeria    16.602211\n",
      "3                                          Andorra   182.863248\n",
      "4                                           Angola    15.741841\n",
      "5                              Antigua and Barbuda   209.131222\n",
      "6                                        Argentina    15.620733\n",
      "7                                          Armenia   102.759708\n",
      "8                                        Australia     2.938944\n",
      "9                                          Austria   103.319979\n",
      "10                                      Azerbaijan   112.942032\n",
      "11                                    Bahamas, The    23.385951\n",
      "12                                         Bahrain  1771.859211\n",
      "13                                      Bangladesh  1138.069143\n",
      "14                                        Barbados   675.823256\n",
      "15                                         Belarus    46.193107\n",
      "16                                         Belgium   370.937271\n",
      "17                                          Belize    15.125359\n",
      "18                                           Benin    92.776252\n",
      "19                                          Bhutan    19.323827\n",
      "20                                         Bolivia     9.831666\n",
      "21                          Bosnia and Herzegovina    75.532844\n",
      "22                                        Botswana     3.752117\n",
      "23                                          Brazil    23.986065\n",
      "24                                          Brunei    74.526626\n",
      "25                                        Bulgaria    64.817441\n",
      "26                                    Burkina Faso    69.043348\n",
      "27                                           Burma    83.242739\n",
      "28                                         Burundi   385.996263\n",
      "29                                        Cambodia    86.771928\n",
      "..                                             ...          ...\n",
      "231              Falkland Islands (Islas Malvinas)     0.276103\n",
      "232                                      Gibraltar  4876.333333\n",
      "233                                       Guernsey   847.179487\n",
      "234                                         Jersey   838.741379\n",
      "235                                    Isle of Man   153.050699\n",
      "236                                     Montserrat    51.382353\n",
      "237                               Pitcairn Islands     1.021277\n",
      "238  Saint Helena, Ascension, and Tristan da Cunha    25.308442\n",
      "239       South Georgia and South Sandwich Islands          NaN\n",
      "240                       Turks and Caicos Islands    53.037975\n",
      "241                                 American Samoa   273.080402\n",
      "242                                           Guam   297.398897\n",
      "243                                 Navassa Island          NaN\n",
      "244                       Northern Mariana Islands   112.810345\n",
      "245                                    Puerto Rico   260.920673\n",
      "246                                 Virgin Islands    54.227225\n",
      "247                                    Wake Island          NaN\n",
      "248  United States Pacific Island Wildlife Refuges          NaN\n",
      "249                                     Antarctica          NaN\n",
      "250                                     Gaza Strip  5191.819444\n",
      "251                                Paracel Islands          NaN\n",
      "252                                Spratly Islands          NaN\n",
      "253                                      West Bank   475.318430\n",
      "254                                 Western Sahara     2.146113\n",
      "255                                   Arctic Ocean          NaN\n",
      "256                                 Atlantic Ocean          NaN\n",
      "257                                   Indian Ocean          NaN\n",
      "258                                  Pacific Ocean          NaN\n",
      "259                                 Southern Ocean          NaN\n",
      "260                                          World          NaN\n",
      "\n",
      "[261 rows x 2 columns]\n"
     ]
    }
   ],
   "source": [
    "q7 = '''\n",
    "SELECT name, (CAST(population as FLOAT) / CAST(area as float)) density\n",
    "FROM facts\n",
    "\n",
    "\n",
    "'''\n",
    "\n",
    "df = pd.read_sql_query(q7, conn)\n",
    "print(df)"
   ]
  },
  {
   "cell_type": "code",
   "execution_count": 8,
   "metadata": {},
   "outputs": [
    {
     "name": "stdout",
     "output_type": "stream",
     "text": [
      "                             name  maxwatertoland\n",
      "0  British Indian Ocean Territory      905.666667\n"
     ]
    }
   ],
   "source": [
    "#Which countries have the highest ratios of water to land?\n",
    "q8 = '''\n",
    "\n",
    "SELECT name, MAX(CAST(area_water as FLOAT) / CAST(area_land as float)) maxwatertoland\n",
    "FROM facts\n",
    "\n",
    "'''\n",
    "\n",
    "df = pd.read_sql_query(q8, conn)\n",
    "print(df)"
   ]
  },
  {
   "cell_type": "code",
   "execution_count": 9,
   "metadata": {},
   "outputs": [
    {
     "name": "stdout",
     "output_type": "stream",
     "text": [
      "                             name\n",
      "0  British Indian Ocean Territory\n",
      "1                  Virgin Islands\n"
     ]
    }
   ],
   "source": [
    "#Which countries have more water than land?\n",
    "\n",
    "q9 ='''\n",
    "\n",
    "SELECT name\n",
    "FROM facts\n",
    "WHERE area_water > area_land\n",
    "'''\n",
    "\n",
    "df = pd.read_sql_query(q9, conn)\n",
    "print(df)"
   ]
  },
  {
   "cell_type": "code",
   "execution_count": null,
   "metadata": {},
   "outputs": [],
   "source": []
  }
 ],
 "metadata": {
  "kernelspec": {
   "display_name": "Python 3",
   "language": "python",
   "name": "python3"
  },
  "language_info": {
   "codemirror_mode": {
    "name": "ipython",
    "version": 3
   },
   "file_extension": ".py",
   "mimetype": "text/x-python",
   "name": "python",
   "nbconvert_exporter": "python",
   "pygments_lexer": "ipython3",
   "version": "3.7.2"
  }
 },
 "nbformat": 4,
 "nbformat_minor": 2
}
